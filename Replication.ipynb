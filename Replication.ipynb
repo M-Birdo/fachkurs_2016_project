{
 "cells": [
  {
   "cell_type": "code",
   "execution_count": 63,
   "metadata": {
    "collapsed": false
   },
   "outputs": [
    {
     "name": "stdout",
     "output_type": "stream",
     "text": [
      "10\n",
      "['A', 'G', 'C', 'T', 'T', 'G', 'A', 'C', 'T', 'A']\n",
      "['T']\n",
      "[]\n"
     ]
    }
   ],
   "source": [
    "from molecules import BioMoleculeCount\n",
    "from molecules import BioMolecule\n",
    "from processes import Process\n",
    "\n",
    "class chromosome:\n",
    "    def __init__(self, sequence):\n",
    "        self.sequence = sequence\n",
    "#BioM class PM, He\n",
    "# wenn He gebunden, PM bindet (if bound...)\n",
    "\n",
    "\n",
    "#mehrere Origins\n",
    "#definition i?\n",
    "\n",
    "class Helicase(BioMoleculeCount):\n",
    "    def __init__(self, mid, name, count=0):\n",
    "        super().__init__(mid, name, count)\n",
    "        \n",
    "    #Bindung?\n",
    "    # bindet an Stelle X\n",
    "    \n",
    "class Polymerase(BioMoleculeCount):\n",
    "    def __init__(self, mid, name, count=0):\n",
    "        super().__init__(mid, name, count)\n",
    "  \n",
    "\n",
    "class Replication(Process):\n",
    "    def __init__(self, id, name):\n",
    "        super().__init__(id, name)\n",
    "        self._init_helicase()\n",
    "        self._init_polymerase()\n",
    "    \n",
    "    \n",
    "    def _init_helicase(self):\n",
    "        self.helicase = Helicase(\"Helicase\", \"DnaB\", 1)\n",
    "        \n",
    "    def _init_polymerase(self):\n",
    "        self.polymerase = Polymerase(\"Polymerase\", \"Polymerase3\", 1)\n",
    "    \n",
    "    def update(self):\n",
    "        #state\n",
    "        pass\n",
    "    \n",
    "    def initiate(self):\n",
    "        #BioMolcount\n",
    "        #if not He boud> bind\n",
    "        #if not PM bound but He boud > bind\n",
    "        #\n",
    "        pass\n",
    "    \n",
    "    def elongate(self):\n",
    "        #rate\n",
    "        #compl()\n",
    "            #numpy.random.poisson()\n",
    "        #if i+xx >=(Nukleotide/sec) >= len(sequence)\n",
    "            #terminate bis xxx\n",
    "        pass\n",
    "    \n",
    "    def terminate(self):\n",
    "        #BioMolcount\n",
    "        pass\n",
    "\n",
    "chrom1 = chromosome(['A','G','C','T','T','G','A','C','T','A'])\n",
    "chrom1.sequence\n",
    "\n",
    "def length():\n",
    "    print(len(chrom1.sequence))\n",
    "\n",
    "#replicated complementary strand\n",
    "comp_strand = []\n",
    "\n",
    "#replicated original strand\n",
    "ori_strand = []\n",
    "\n",
    "#Origins\n",
    "#wahrscheinlichkeiten für falsche Nukleotide\n",
    "#comp+ori\n",
    "#Rate\n",
    "#Wann initiate? vllt ab bestimmter Anzahl an Proteine\n",
    "\n",
    "#energie?\n",
    "\n",
    "def nucleotide_complement():\n",
    "    \n",
    "    for i in chrom1.sequence:\n",
    "        if i == 'A':\n",
    "            comp_strand.append('T')\n",
    "        if i == 'T':\n",
    "            comp_strand.append('A')\n",
    "                \n",
    "        if i == 'G':\n",
    "            comp_strand.append('C')\n",
    "                \n",
    "        if i == 'C':\n",
    "            comp_strand.append('G')\n",
    "               \n",
    "        return comp_strand\n",
    "\n",
    "\n",
    "    \n",
    "nucleotide_complement()\n",
    "length()\n",
    "\n",
    "print(chrom1.sequence)\n",
    "print(comp_strand)\n",
    "print(ori_strand)\n",
    "\n",
    "\n",
    "\n",
    "    "
   ]
  },
  {
   "cell_type": "code",
   "execution_count": 54,
   "metadata": {
    "collapsed": true
   },
   "outputs": [],
   "source": [
    "class Dog:\n",
    "    def __init__(self, bellen):\n",
    "        self.bellen = bellen\n",
    "\n",
    "hund1 = Dog('wuff')\n",
    "hund2 = Dog('wiff')"
   ]
  },
  {
   "cell_type": "code",
   "execution_count": 56,
   "metadata": {
    "collapsed": false
   },
   "outputs": [
    {
     "name": "stdout",
     "output_type": "stream",
     "text": [
      "wuff\n",
      "wiff\n"
     ]
    }
   ],
   "source": [
    "print(hund1.bellen)\n",
    "print(hund2.bellen)"
   ]
  },
  {
   "cell_type": "code",
   "execution_count": 57,
   "metadata": {
    "collapsed": true
   },
   "outputs": [],
   "source": [
    "class Helicase(BioMoleculeCount):\n",
    "    def __init__(self, mid, name, count):\n",
    "        super().__init__(mid, name, count)\n"
   ]
  },
  {
   "cell_type": "code",
   "execution_count": 58,
   "metadata": {
    "collapsed": true
   },
   "outputs": [],
   "source": [
    "helicase1 = Helicase('Helicase', 'Helicase', 10)\n"
   ]
  },
  {
   "cell_type": "code",
   "execution_count": 61,
   "metadata": {
    "collapsed": false
   },
   "outputs": [
    {
     "data": {
      "text/plain": [
       "8"
      ]
     },
     "execution_count": 61,
     "metadata": {},
     "output_type": "execute_result"
    }
   ],
   "source": [
    "helicase1.count -= 1\n",
    "helicase1.count"
   ]
  },
  {
   "cell_type": "code",
   "execution_count": null,
   "metadata": {
    "collapsed": true
   },
   "outputs": [],
   "source": []
  }
 ],
 "metadata": {
  "kernelspec": {
   "display_name": "Python 3",
   "language": "python",
   "name": "python3"
  },
  "language_info": {
   "codemirror_mode": {
    "name": "ipython",
    "version": 3
   },
   "file_extension": ".py",
   "mimetype": "text/x-python",
   "name": "python",
   "nbconvert_exporter": "python",
   "pygments_lexer": "ipython3",
   "version": "3.4.3"
  }
 },
 "nbformat": 4,
 "nbformat_minor": 0
}
